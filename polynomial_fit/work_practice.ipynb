{
 "cells": [
  {
   "cell_type": "code",
   "execution_count": 1,
   "id": "87fa41e0-3fe9-48c3-b991-c284b1c7e67e",
   "metadata": {},
   "outputs": [],
   "source": [
    "import numpy as np\n",
    "import matplotlib.pyplot as plt\n",
    "\n",
    "from polynomial import Polynomial"
   ]
  },
  {
   "cell_type": "markdown",
   "id": "a24f11db-df7d-4e6d-91f5-cd08dea0ef50",
   "metadata": {},
   "source": [
    "# Polynomial fit \n",
    "\n",
    "This is a toy problem where we fit a quadratic function on a polynomial to find the coefficients of the quadratic function. The underlying function for which we are trying to compute the fit is $4 - t + \\frac{1}{2}t^2$."
   ]
  },
  {
   "cell_type": "markdown",
   "id": "6bcf9613",
   "metadata": {},
   "source": [
    "### Plotting to check the true function and a trial function with different value of the coefficient"
   ]
  },
  {
   "cell_type": "markdown",
   "id": "28560c65",
   "metadata": {},
   "source": [
    "### Here we invoke the fitting function to calculated the fitted values of `a`, `v`, the `rms` values on the grid, and the `grid_points` itself."
   ]
  },
  {
   "cell_type": "code",
   "execution_count": 8,
   "id": "230d7c25-3a83-4c6c-a364-4f8ae655d632",
   "metadata": {},
   "outputs": [
    {
     "ename": "TypeError",
     "evalue": "Polynomial.fitting() missing 1 required positional argument: 'N'",
     "output_type": "error",
     "traceback": [
      "\u001b[0;31m---------------------------------------------------------------------------\u001b[0m",
      "\u001b[0;31mTypeError\u001b[0m                                 Traceback (most recent call last)",
      "Cell \u001b[0;32mIn[8], line 8\u001b[0m\n\u001b[1;32m      6\u001b[0m \u001b[38;5;66;03m#x_vals_true = polynomial(t)\u001b[39;00m\n\u001b[1;32m      7\u001b[0m obj \u001b[38;5;241m=\u001b[39m Polynomial(t)\n\u001b[0;32m----> 8\u001b[0m fitted_a_vals, fitted_v_vals, rms_vals, a_grid_val, v_grid_val \u001b[38;5;241m=\u001b[39m \u001b[43mPolynomial\u001b[49m\u001b[38;5;241;43m.\u001b[39;49m\u001b[43mfitting\u001b[49m\u001b[43m(\u001b[49m\u001b[38;5;241;43m-\u001b[39;49m\u001b[38;5;241;43m2\u001b[39;49m\u001b[43m,\u001b[49m\u001b[43m \u001b[49m\u001b[38;5;241;43m2\u001b[39;49m\u001b[43m,\u001b[49m\u001b[43m \u001b[49m\u001b[38;5;241;43m-\u001b[39;49m\u001b[38;5;241;43m4\u001b[39;49m\u001b[43m,\u001b[49m\u001b[43m \u001b[49m\u001b[38;5;241;43m4\u001b[39;49m\u001b[43m,\u001b[49m\u001b[43m \u001b[49m\u001b[43mN\u001b[49m\u001b[43m)\u001b[49m\n\u001b[1;32m      9\u001b[0m \u001b[38;5;66;03m#fitted_a_vals, fitted_v_vals, rms_vals, a_grid_val, v_grid_val = fitting(t, -2, 2, -4, 4, N, x_vals_true)\u001b[39;00m\n",
      "\u001b[0;31mTypeError\u001b[0m: Polynomial.fitting() missing 1 required positional argument: 'N'"
     ]
    }
   ],
   "source": [
    "# Note that the left hand side has the exact same order of the variables as \n",
    "# the return function in the previous cell. That means `a_fit` returned from \n",
    "# the function will be saved in `fitted_a_val`, and so forth.\n",
    "N = 500\n",
    "t = np.linspace(0, 1, 1000)\n",
    "#x_vals_true = polynomial(t)\n",
    "obj = Polynomial(t)\n",
    "fitted_a_vals, fitted_v_vals, rms_vals, a_grid_val, v_grid_val = Polynomial.fitting(-2, 2, -4, 4, N)\n",
    "#fitted_a_vals, fitted_v_vals, rms_vals, a_grid_val, v_grid_val = fitting(t, -2, 2, -4, 4, N, x_vals_true)"
   ]
  },
  {
   "cell_type": "code",
   "execution_count": 3,
   "id": "37817f9f-ddd8-4a2d-ad90-f177f8d3f0de",
   "metadata": {},
   "outputs": [],
   "source": [
    "def plotting(fitted_a_vals, fitted_v_vals, a_grid_val, v_grid_val, rms_vals, N=500):\n",
    "    \"\"\"\n",
    "    Plots the RMS array as a colormap.\n",
    "    \n",
    "    INPUT:\n",
    "    ------\n",
    "    a_fit: Best-fit acceleration\n",
    "    v_fit: Best-fit velocity\n",
    "    rms: Root mean square array\n",
    "    grid_points: List of grid points\n",
    "\n",
    "    OUTPUT: colormap\n",
    "    \"\"\"\n",
    "    A, V = np.meshgrid(a_grid_val, v_grid_val)\n",
    "    rms_grid = rms_vals.reshape((N, N))\n",
    "    plt.pcolormesh(A, V, rms_grid)\n",
    "    plt.colorbar()\n",
    "    plt.scatter(fitted_a_vals, fitted_v_vals)\n",
    "    plt.xlabel('Value of a')\n",
    "    plt.ylabel('Value of v')\n",
    "\n",
    "    plt.show()"
   ]
  },
  {
   "cell_type": "code",
   "execution_count": 4,
   "id": "1d23f737-3927-4525-8905-eeeca9276954",
   "metadata": {},
   "outputs": [
    {
     "data": {
      "text/plain": [
       "\u001b[0;31mSignature:\u001b[0m \u001b[0mPolynomial\u001b[0m\u001b[0;34m.\u001b[0m\u001b[0mfitting\u001b[0m\u001b[0;34m(\u001b[0m\u001b[0mself\u001b[0m\u001b[0;34m,\u001b[0m \u001b[0ma_low\u001b[0m\u001b[0;34m,\u001b[0m \u001b[0ma_hi\u001b[0m\u001b[0;34m,\u001b[0m \u001b[0mv_low\u001b[0m\u001b[0;34m,\u001b[0m \u001b[0mv_hi\u001b[0m\u001b[0;34m,\u001b[0m \u001b[0mN\u001b[0m\u001b[0;34m,\u001b[0m \u001b[0mb\u001b[0m\u001b[0;34m=\u001b[0m\u001b[0;36m0\u001b[0m\u001b[0;34m)\u001b[0m\u001b[0;34m\u001b[0m\u001b[0;34m\u001b[0m\u001b[0m\n",
       "\u001b[0;31mDocstring:\u001b[0m\n",
       "METHOD: This function accepts the bounds of the `a` and `v` and the total number of grid points,\n",
       "constructs a grid on both the variables, and computes the fit of the polynomial function.\n",
       "\n",
       "INPUT:\n",
       "------\n",
       "a_low: lowest range of acceleration value\n",
       "a_hi: highest range of acceleration value\n",
       "v_low: lowest range of velocity value\n",
       "v_hi: highest range of velocity value\n",
       "N: number of grid points\n",
       "x_vals_true: true values of x (numpy array)\n",
       "b: coefficient of the cubic term (default: 0)\n",
       "\n",
       "OUTPUT:\n",
       "Returns the fitted parameters, the RMS error array, and the grid points.\n",
       "\u001b[0;31mFile:\u001b[0m      ~/research/practice_codes/polynomial_fit/polynomial.py\n",
       "\u001b[0;31mType:\u001b[0m      function"
      ]
     },
     "metadata": {},
     "output_type": "display_data"
    }
   ],
   "source": [
    "Polynomial.fitting?"
   ]
  },
  {
   "cell_type": "code",
   "execution_count": null,
   "id": "44330455-393f-45d0-ad58-1b120ff88aaf",
   "metadata": {},
   "outputs": [],
   "source": [
    "plotting(fitted_a_vals, fitted_v_vals, a_grid_val, v_grid_val, rms_vals)"
   ]
  },
  {
   "cell_type": "markdown",
   "id": "386e10a3",
   "metadata": {},
   "source": [
    "----"
   ]
  },
  {
   "cell_type": "markdown",
   "id": "805b3ead",
   "metadata": {},
   "source": [
    "## Systematic error in fitting data\n",
    "Thus far we have assumed that the polynomial function we are trying to fit has the same degree as the trial function. This is true if we know the underlying physics that is responsible for the functional dependence. For example, in the above example we are assuming that we are observing a motion of a uniformly accelerated object. We know from the laws of kinematics that the displacement varies as a quadratic function of time $x(t) = x_0 + v_0t + \\frac{1}{2}at^2$. Thus, it natural to use a quadratic trials function and then use that function for fitting to the data. However, in real life we might be dealing with a problem where the true function is not known accurately. We just have the data. Using the trial function that is inaccurate will result in error in the estimation of the true parameters. In this example we will be changing the function that generates the data. We do that by slightly modifying the quadratic function by adding weak cubic function."
   ]
  },
  {
   "cell_type": "markdown",
   "id": "88eb539a",
   "metadata": {},
   "source": [
    "### Task 1: \n",
    "Plot the function for `times = np.linspace(0,1,1000)` for `b=0.01` and for `b=0`"
   ]
  },
  {
   "cell_type": "code",
   "execution_count": null,
   "id": "1ced006e",
   "metadata": {},
   "outputs": [],
   "source": [
    "times = np.linspace(0,1,1000)\n",
    "plt.plot(times, polynomial(times, v=-1, a=1, b=0.01), label = \"b=0.01\")\n",
    "plt.plot(times, polynomial(times, v=-1, a=1, b=0), label = \"b=0\")\n",
    "plt.xlabel('Values of t')\n",
    "plt.ylabel('$f(t)$')\n",
    "plt.legend()\n",
    "plt.show()"
   ]
  },
  {
   "cell_type": "markdown",
   "id": "b425b8e4",
   "metadata": {},
   "source": [
    "### Task 2:\n",
    "Now use the fitting script developed above to fit this new data (using `b=0.01`) using a quadratic fit. \n",
    "1. What is the error in the fitted parameters?\n",
    "2. How does the fitting error evolve as we increase the fineness of the gid (increasing value of `N`)\n",
    "3. Now, if we fix the value of `N` (number of grid points) to `500`. how does the fitting error vary with the variation of the value of `b`? We expect error in the fitting will increase with increasing values of `b`. \n",
    "\n",
    "Note that we will have two plots in each case, one for each of the parameters `v` and `a.`"
   ]
  },
  {
   "cell_type": "code",
   "execution_count": null,
   "id": "71af3356-55be-4fbb-be52-1b4bfd4155a9",
   "metadata": {},
   "outputs": [],
   "source": [
    "def modified_plotting(fitted_a_vals, fitted_v_vals, a_grid_val, v_grid_val, rms_vals, x_vals_true, N=500):\n",
    "    \"\"\"\n",
    "    Plots the RMS array as a colormap.\n",
    "    \n",
    "    INPUT:\n",
    "    ------\n",
    "    fitted_a_vals: List of fitted acceleration values\n",
    "    fitted_v_vals: List of fitted velocity values\n",
    "    a_grid_val: Grid values of acceleration\n",
    "    v_grid_val: Grid values of velocity\n",
    "    rms_vals: Root mean square array\n",
    "    x_vals_true: True values of x (numpy array)\n",
    "    N: number of grid points\n",
    "\n",
    "    OUTPUT: Colormap plot\n",
    "    \"\"\"\n",
    "    A, V = np.meshgrid(a_grid_val, v_grid_val)\n",
    "    rms_grid = rms_vals.reshape((N, N))\n",
    "    plt.pcolormesh(A, V, rms_grid)\n",
    "    plt.colorbar()\n",
    "    plt.scatter(fitted_a_vals, fitted_v_vals, color='red')\n",
    "    plt.xlabel('Value of a')\n",
    "    plt.ylabel('Value of v')\n",
    "    plt.show()"
   ]
  },
  {
   "cell_type": "code",
   "execution_count": null,
   "id": "68ac46a6-d96b-4546-b7c1-fd5a749234b3",
   "metadata": {},
   "outputs": [],
   "source": [
    "a_true = 1\n",
    "v_true = -1"
   ]
  },
  {
   "cell_type": "code",
   "execution_count": null,
   "id": "fdc3dea8-9ff1-4ee8-8c85-02c210546a61",
   "metadata": {
    "scrolled": true
   },
   "outputs": [],
   "source": [
    "\"\"\"\n",
    "1\n",
    "\"\"\"\n",
    "x_vals_true_with_cubic = polynomial(times, b=0.01)\n",
    "a_fit, v_fit, rms_vals, _, _ = fitting(times, -2, 2, -4, 4, 500, x_vals_true_with_cubic)\n",
    "print(\"Fitted acceleration:\", a_fit)\n",
    "print(\"Fitted velocity:\", v_fit)\n",
    "\n",
    "error_a = np.abs(a_true - a_fit)\n",
    "error_v = np.abs(v_true - v_fit)\n",
    "print(\"Error in fitted acceleration:\", error_a)\n",
    "print(\"Error in fitted velocity:\", error_v)\n"
   ]
  },
  {
   "cell_type": "markdown",
   "id": "c7421ea3",
   "metadata": {},
   "source": [
    "### I have changed things up to here\n",
    "---"
   ]
  },
  {
   "cell_type": "code",
   "execution_count": null,
   "id": "e8e25b81-58b0-4ead-80d2-9bf49783fa55",
   "metadata": {},
   "outputs": [],
   "source": [
    "\"\"\"\n",
    "2\n",
    "\"\"\"\n",
    "def evaluate_fitting_error_with_grid_fineness(N_values, a_true, v_true, a_low, a_hi, v_low, v_hi, b, times):\n",
    "    fitting_errors_a = []\n",
    "    fitting_errors_v = []\n",
    "    for N in N_values:\n",
    "        fitted_a_vals, fitted_v_vals, rms_vals, _, _ = fitting(times, a_low, a_hi, v_low, v_hi, N, x_vals_true_with_cubic)\n",
    "        error_a = np.abs(a_true - fitted_a_vals)\n",
    "        error_v = np.abs(v_true - fitted_v_vals)\n",
    "        fitting_errors_a.append(np.mean(error_a))\n",
    "        fitting_errors_v.append(np.mean(error_v))\n",
    "    return fitting_errors_a, fitting_errors_v\n",
    "    "
   ]
  },
  {
   "cell_type": "code",
   "execution_count": null,
   "id": "c7c724ea-88d9-42cc-8798-e4b989071a8f",
   "metadata": {},
   "outputs": [],
   "source": [
    "a_low = -2\n",
    "a_hi = 2\n",
    "v_low = -4\n",
    "v_hi = 4\n",
    "N_values = [100, 200, 300, 400, 500, 600, 700, 800, 900, 1000]\n",
    "fitting_errors_a_N, fitting_errors_v_N = evaluate_fitting_error_with_grid_fineness(N_values, a_true, v_true, a_low, a_hi, v_low, v_hi, b=0.01, times=times)\n",
    "\n",
    "plt.figure(figsize=(10, 5))\n",
    "plt.subplot(1, 2, 1)\n",
    "plt.plot(N_values, fitting_errors_a_N, label='Fitting Error in a')\n",
    "plt.xlabel('Number of Grid Points (N)')\n",
    "plt.ylabel('Fitting Error')\n",
    "plt.title('Fitting Error in a vs Grid Fineness (b=0.01)')\n",
    "plt.legend()\n",
    "plt.subplot(1, 2, 2)\n",
    "plt.plot(N_values, fitting_errors_v_N, label='Fitting Error in v')\n",
    "plt.xlabel('Number of Grid Points (N)')\n",
    "plt.ylabel('Fitting Error')\n",
    "plt.title('Fitting Error in v vs Grid Fineness (b=0.01)')\n",
    "plt.legend()\n",
    "plt.tight_layout()\n",
    "plt.show()"
   ]
  },
  {
   "cell_type": "code",
   "execution_count": null,
   "id": "5d18875d-41c9-416e-847b-59d148e54f5a",
   "metadata": {},
   "outputs": [],
   "source": [
    "def calculate_fitting_errors(a_true, v_true, a_low, a_hi, v_low, v_hi, N, x_vals, b):\n",
    "    a_fit = a_true * np.exp(-b * x_vals)\n",
    "    v_fit = v_true * np.cos(b * x_vals)\n",
    "    errors_a = (a_fit - a_true)**2\n",
    "    errors_v = (v_fit - v_true)**2\n",
    "    return errors_a, errors_v\n",
    "\n",
    "\n",
    "def evaluate_fitting_error_with_b_values(b_values, a_true, v_true, a_low, a_hi, v_low, v_hi, N=500):\n",
    "    fitting_errors_a = []\n",
    "    fitting_errors_v = []\n",
    "    for b in b_values:\n",
    "        x_vals_true_with_cubic = generate_true_x_values(N)\n",
    "        errors_a, errors_v = calculate_fitting_errors(a_true, v_true, a_low, a_hi, v_low, v_hi, N, x_vals_true_with_cubic, b)\n",
    "        fitting_errors_a.append(np.mean(errors_a))\n",
    "        fitting_errors_v.append(np.mean(errors_v))\n",
    "    return fitting_errors_a, fitting_errors_v\n",
    "\n",
    "def generate_true_x_values(N):\n",
    "    return np.random.uniform(-10, 10, size=N)\n"
   ]
  },
  {
   "cell_type": "code",
   "execution_count": null,
   "id": "7b3a1e04-758c-417d-b39c-87c7a352adce",
   "metadata": {},
   "outputs": [],
   "source": [
    "a_true = 1\n",
    "v_true = -1\n",
    "a_low = -2\n",
    "a_hi = 2\n",
    "v_low = -4\n",
    "v_hi = 4\n",
    "b_values = [0.001, 0.005, 0.01, 0.02, 0.05, 0.1]\n",
    "\n",
    "fitting_errors_a, fitting_errors_v = evaluate_fitting_error_with_b_values(b_values, a_true, v_true, a_low, a_hi, v_low, v_hi)\n",
    "\n",
    "\n",
    "plt.figure(figsize=(10, 5))\n",
    "plt.subplot(1, 2, 1)\n",
    "plt.plot(b_values, fitting_errors_a, label='Fitting Error in a')\n",
    "plt.xlabel('Value of b')\n",
    "plt.ylabel('Fitting Error')\n",
    "plt.title('Fitting Error in a vs b (N=500)')\n",
    "plt.legend()\n",
    "plt.subplot(1, 2, 2)\n",
    "plt.plot(b_values, fitting_errors_v, label='Fitting Error in v')\n",
    "plt.xlabel('Value of b')\n",
    "plt.ylabel('Fitting Error')\n",
    "plt.title('Fitting Error in v vs b (N=500)')\n",
    "plt.legend()\n",
    "plt.tight_layout()\n",
    "plt.show()\n"
   ]
  },
  {
   "cell_type": "code",
   "execution_count": null,
   "id": "64467a66-8209-4b2f-b926-1614e2d11fee",
   "metadata": {},
   "outputs": [],
   "source": []
  }
 ],
 "metadata": {
  "kernelspec": {
   "display_name": "work",
   "language": "python",
   "name": "work"
  },
  "language_info": {
   "codemirror_mode": {
    "name": "ipython",
    "version": 3
   },
   "file_extension": ".py",
   "mimetype": "text/x-python",
   "name": "python",
   "nbconvert_exporter": "python",
   "pygments_lexer": "ipython3",
   "version": "3.12.3"
  }
 },
 "nbformat": 4,
 "nbformat_minor": 5
}
