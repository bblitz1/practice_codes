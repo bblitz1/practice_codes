{
 "cells": [
  {
   "cell_type": "code",
   "execution_count": 2,
   "id": "605377a3-780f-4e85-bee3-bcdcca07ae03",
   "metadata": {},
   "outputs": [],
   "source": [
    "import numpy as np \n",
    "import matplotlib.pyplot as plt\n",
    "\n",
    "from MCMC import MCMCModel"
   ]
  },
  {
   "cell_type": "code",
   "execution_count": null,
   "id": "3d84b9e1-c355-4644-a1d7-ebac1ffd4a2b",
   "metadata": {},
   "outputs": [],
   "source": []
  }
 ],
 "metadata": {
  "kernelspec": {
   "display_name": "work",
   "language": "python",
   "name": "work"
  },
  "language_info": {
   "codemirror_mode": {
    "name": "ipython",
    "version": 3
   },
   "file_extension": ".py",
   "mimetype": "text/x-python",
   "name": "python",
   "nbconvert_exporter": "python",
   "pygments_lexer": "ipython3",
   "version": "3.12.3"
  }
 },
 "nbformat": 4,
 "nbformat_minor": 5
}
